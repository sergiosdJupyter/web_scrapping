{
 "cells": [
  {
   "cell_type": "markdown",
   "metadata": {},
   "source": [
    "# Introduction\n",
    "\n",
    "The idea of this application is to get options contracts quotes data from this web using a list of tickers\n",
    "\n",
    "## Selenium installation\n",
    "Follow the  instructions of the Selenium tutorial about installation\n",
    "\n",
    "\n",
    "\n",
    "\n",
    "# Getting the ticker quotes page\n",
    "\n",
    "We want to directly access to the quotes page, avoiding navigation to get the form to access to the data. To do that, instead of navigate to the home page https://www.optionseducation.org/en.html, we will access directly to the quotes data page.\n",
    "\n",
    "For example for HPQ ticker, the quotes data page is:\n",
    "https://www.optionseducation.org/quotes.html?quote=HPQ\n",
    "\n"
   ]
  },
  {
   "cell_type": "code",
   "execution_count": 22,
   "metadata": {},
   "outputs": [],
   "source": [
    "from selenium import webdriver\n",
    "from selenium.webdriver.common.keys import Keys\n",
    "from selenium.webdriver.support.ui import Select\n",
    "\n",
    "result = {}\n",
    "ticker = 'HPQ'\n",
    "driver = webdriver.Chrome()\n",
    "driver.get(\"https://www.optionseducation.org/quotes.html?quote=\" + ticker)\n",
    "try:\n",
    "    assert \"Quotes\" in driver.title\n",
    "except AssertionError:\n",
    "    print(\"Unknown page \\\"{page}\\\", please check opened browser\".format(page=driver.title))\n",
    "result['ticker'] = ticker"
   ]
  },
  {
   "cell_type": "markdown",
   "metadata": {},
   "source": [
    "We can see that the page is loaded:\n",
    "<img src=\"img\\oichome.png\" alt=\"Drawing\" style=\"width: 700px;\"/>\n"
   ]
  },
  {
   "cell_type": "markdown",
   "metadata": {},
   "source": [
    "# Getting the underlying price\n",
    "Selecting the price in the page and doing an inspection, we realize that there is no name nor other attributes we can use the either identify the row or the table:\n",
    "\n",
    "<img src=\"img\\oicunderprice.png\" alt=\"Drawing\" style=\"width: 700px;\"/>\n",
    "\n",
    "So, we must use an indirect address method. We will look for the \"Price\" text and then identify the table as the parent and then we know the underlyng price is the row below.\n",
    "\n",
    "The Xpath of the \"Price\" text is:\n",
    "```\n",
    "/html/body/table/tbody/tr/td/table[5]/tbody/tr[1]/td[1]\n",
    "```\n",
    "However we will look for the Xpath:\n",
    "```\n",
    "//*[td=\"Price\"]/../tr[2]/td[1]\n",
    "\n",
    "//*[td=\"Price\"]   ---->   look for any tag with a child \"td\" of value \"Price\n",
    "/..               ---->   get the parent\n",
    "/tr[2]            ---->   get the second row\n",
    "/td[1]            ---->   get the first column\n",
    "```\n",
    "However, this search doesn't work neither, the element is not found.\n",
    "\n",
    "This is beause the table is indeed part of another web page that optionseducation.org load when the quotes are searched.\n",
    "\n",
    "A detailed search in the inspected document reveals that actually the page loaded is\n",
    "\n",
    "https://oic.ivolatility.com/oic_adv_options.j?cnt=70d5ac98f2c2b1a16efa84de5c8fe10a2721bde5ac49612e&ticker=HPQ\n",
    "\n",
    "and indeed this is the value of attribute \"src\" of a iframe tag which paren is:\n",
    "```\n",
    "<div class=\"iframe iframeReference\">\n",
    "    <iframe src=\"https://oic.ivolatility.com/oic_adv_options.j?cnt=70d5ac98f2c2b1a16efa84de5c8fe10a2721bde5ac49612e&amp;ticker=HPQ\" width=\"100%\" height=\"100%\" style=\"height:800px\"></iframe>\n",
    "</div>\n",
    "```\n",
    "\n",
    "so let's look for the Xpath to get this page:\n",
    "```\n",
    "'//div[@class=\"iframe iframeReference\"]/iframe'\n",
    "```\n",
    "\n",
    "and then get the \"src\" attribute to be used to load a new page.\n",
    "\n",
    "To get the address:"
   ]
  },
  {
   "cell_type": "code",
   "execution_count": 29,
   "metadata": {},
   "outputs": [
    {
     "name": "stdout",
     "output_type": "stream",
     "text": [
      "https://oic.ivolatility.com/oic_adv_options.j?cnt=70d5ac98f2c2b1a16efa84de5c8fe10a16f61b24933a7a98&ticker=HPQ\n"
     ]
    }
   ],
   "source": [
    "xpath_str = '//div[@class=\"iframe iframeReference\"]/iframe'\n",
    "element = driver.find_element_by_xpath(xpath_str)\n",
    "print(element. get_attribute(\"src\"))"
   ]
  },
  {
   "cell_type": "markdown",
   "metadata": {},
   "source": [
    "And to load this page:"
   ]
  },
  {
   "cell_type": "code",
   "execution_count": 31,
   "metadata": {},
   "outputs": [],
   "source": [
    "driver.get(element. get_attribute(\"src\"))"
   ]
  },
  {
   "cell_type": "markdown",
   "metadata": {},
   "source": [
    "Now we can try to look for the \"Price\" text:"
   ]
  },
  {
   "cell_type": "code",
   "execution_count": 49,
   "metadata": {},
   "outputs": [
    {
     "name": "stdout",
     "output_type": "stream",
     "text": [
      "23.71\n"
     ]
    }
   ],
   "source": [
    "xpath_str = '//*[td=\"Price\"]/../tr[2]/td[1]'\n",
    "element = driver.find_element_by_xpath(xpath_str)\n",
    "underlying = float(element.text)\n",
    "print(element.text)\n",
    "result['Underlying'] = underlying"
   ]
  },
  {
   "cell_type": "markdown",
   "metadata": {},
   "source": [
    "# Getting the closest expiration date\n",
    "The process now is quite straightforward, we have just to define the right Xpath\n",
    "\n",
    "In this case, our key word is \"Expiry\". We have to look for a tag which has a text value that contains that word:\n",
    "```\n",
    "<tr bgcolor=\"#FFFFFF\">\n",
    "    <td colspan=\"16\">\n",
    "        <span class=\"s4\"><b>Expiry: Jun 08, 2018\n",
    "\t\t\t\t\t&nbsp;&nbsp;&nbsp;&nbsp;&nbsp;&nbsp;\n",
    "\t\t\t\t\tDays: 0</b></span>\n",
    "    </td>\n",
    "</tr>\n",
    "```\n",
    "\n",
    "So the Xpath is:\n",
    "```\n",
    "xpath_str = '//*[contains(text(),\"Expiry\")]'\n",
    "```"
   ]
  },
  {
   "cell_type": "code",
   "execution_count": 51,
   "metadata": {},
   "outputs": [
    {
     "name": "stdout",
     "output_type": "stream",
     "text": [
      "['Expiry:', 'Jun', '08,', '2018', 'Days:', '0']\n"
     ]
    }
   ],
   "source": [
    "xpath_str = '//*[contains(text(),\"Expiry\")]'\n",
    "element = driver.find_element_by_xpath(xpath_str)\n",
    "expiration = element.text.split()\n",
    "result['Expiration'] = \"{} {}, {}\".format(expiration[1], expiration[2], expiration[3])\n",
    "print(result['Expiration'])"
   ]
  },
  {
   "cell_type": "markdown",
   "metadata": {},
   "source": [
    "# The ATM strike\n",
    "This is the closest lower strike price of the current underlying price.\n",
    "\n",
    "Depending on the security it could be calculated:\n",
    "\n",
    "1. as a multiple of 0.5, for example if price is 23.78, the ATM strike would be 23.5\n",
    "2. as a integer, for example if price is 23.78, the ATM strike would be 23\n",
    "3. as a multiple of 5, for example if price is 23.78, the ATM strike would be 20\n",
    "\n",
    "So we have to implement a script to check these three strikes by order and select the first one found. For example, in case of the 23.78 undelying price, first it will check the existence of the 23.5 strike, if not then the strike 23 and finally the 20 strike.\n",
    "\n",
    "First we have to select the table with the closest expiration time. We can look for the first occurrence of the work \"Strike\":\n",
    "```\n",
    "xpath_str = '//*[contains(text(),\"Strike\")]'\n",
    "```\n",
    "\n",
    "Then we must be placed three parents above and then look for a td value equal to the strike that we are looking for:\n",
    "```\n",
    "xpath_str = '//*[contains(text(),\"Strike\")]/../../..//tr[td[1]=\"31.0\"]'\n",
    "```\n",
    "\n",
    "But this doesn't work, since the reported strike could be the one in the second table (the table below the one with expiration date posterior). This is because the [] has higher preference that the // abreviation, in other words, assuming left-to-right precedence could be an error.\n",
    "\n",
    "Therefore when we specify that look for any tag which contains the word \"Strike\", we must specify that we want the first occurence of the coincidence, this is done with the expression:\n",
    "\n",
    "```\n",
    "xpath_str = '(//*[contains(text(),\"Strike\")])[1]/../../..//tr[td[1]=\"31.0\"]'\n",
    "```\n",
    "\n",
    "The `(//*[contains(text(),\"Strike\")])[1]` forces to look for the first occurrence of the \"Strike\" word\n",
    "\n",
    "In the example below, the 31.0 strike is not present in the first table, therefore the node is not located, but present in the second table and reported:"
   ]
  },
  {
   "cell_type": "code",
   "execution_count": 257,
   "metadata": {},
   "outputs": [
    {
     "name": "stdout",
     "output_type": "stream",
     "text": [
      "Error, tag not found\n",
      "31.0 C HPQ 0.000 0.00 0.01 0.00\n",
      "(0.00) 0 0 97.43% 0.0249 0.0183 -0.0133 -1.3810 0.0019 0.0001\n"
     ]
    }
   ],
   "source": [
    "xpath_str = '(//*[contains(text(),\"Strike\")])[1]/../../..//tr[td[1]=\"31.0\"]'\n",
    "try:\n",
    "    element = driver.find_element_by_xpath(xpath_str)\n",
    "    print(element.text)\n",
    "except:\n",
    "    print(\"Error, tag not found\")\n",
    "    \n",
    "xpath_str = '(//*[contains(text(),\"Strike\")])[2]/../../..//tr[td[1]=\"31.0\"]'\n",
    "try:\n",
    "    element = driver.find_element_by_xpath(xpath_str)\n",
    "    print(element.text)\n",
    "except:\n",
    "    print(\"Error, tag not found\")\n"
   ]
  },
  {
   "cell_type": "markdown",
   "metadata": {},
   "source": [
    "So the procedure will be:"
   ]
  },
  {
   "cell_type": "code",
   "execution_count": 267,
   "metadata": {},
   "outputs": [
    {
     "name": "stdout",
     "output_type": "stream",
     "text": [
      "ATM strike text= 26.0 C HPQ 0.000 0.00 0.02 0.01\n",
      "(0.00) 0 48 38.48% 0.0000 0.0000 0.0000 0.0000 0.0000 -0.0000\n",
      "\n",
      "Strike = 26.0\n"
     ]
    }
   ],
   "source": [
    "underlying = 26.45\n",
    "\n",
    "\n",
    "def check_strike(strike):\n",
    "    strike_str = \"{:01f}\".format(strike) \n",
    "    xpath_str = '(//*[contains(text(),\"Strike\")])[1]/../../../tr[td[1]=' + strike_str + ']'\n",
    "    try:\n",
    "        element = driver.find_element_by_xpath(xpath_str)\n",
    "        return element.text\n",
    "    except:\n",
    "        return None\n",
    "    \n",
    "# Strike multiple of 0.5\n",
    "strike = int(underlying * 2)/2\n",
    "strike_txt = check_strike(strike)\n",
    "if not strike_txt:\n",
    "    strike=int(underlying)\n",
    "    strike_txt = check_strike(strike)\n",
    "    if not strike_txt:\n",
    "        strike=underlying-underlying%5\n",
    "        strike_txt = check_strike(strike)\n",
    "        if not strike_txt:\n",
    "            raise ValueError(\"ATM strike not found\")\n",
    "print(\"ATM strike text= {}\".format(strike_txt))\n",
    "strike = float(strike_txt.split()[0])\n",
    "print(\"\\nStrike = {}\".format(strike))\n",
    "result['strike'] = strike\n",
    "        \n",
    "        \n"
   ]
  },
  {
   "cell_type": "markdown",
   "metadata": {},
   "source": [
    "# Getting contract information: IV, bid and ask\n",
    "Now is simple, when we got the strike text, we also got the data related to the strike of the call option, getting this data is just a question of processing the text. But first we have to get the put option data which is located at the next row of the table.\n",
    "\n",
    "We will use the Xpath axes \"following-sibling::tr\""
   ]
  },
  {
   "cell_type": "code",
   "execution_count": 272,
   "metadata": {},
   "outputs": [
    {
     "name": "stdout",
     "output_type": "stream",
     "text": [
      "P HPQ 0.000 0.00 0.01 -0.07\n",
      "(-93.33) 35 799 17.88% 0.0000 0.0000 0.0000 0.0000 0.0000 0.0000\n"
     ]
    }
   ],
   "source": [
    "xpath_str = '(//*[contains(text(),\"Strike\")])[1]/../../..//tr[td[1]=\"23.5\"]/following-sibling::tr'\n",
    "element = driver.find_element_by_xpath(xpath_str)\n",
    "print(element.text)\n"
   ]
  },
  {
   "cell_type": "markdown",
   "metadata": {},
   "source": [
    "So final code is:"
   ]
  },
  {
   "cell_type": "code",
   "execution_count": 276,
   "metadata": {},
   "outputs": [
    {
     "name": "stdout",
     "output_type": "stream",
     "text": [
      "ATM strike text= ['P', 'HPQ', '0.000', '0.00', '0.01', '-0.07', '(-93.33)', '35', '799', '17.88%', '0.0000', '0.0000', '0.0000', '0.0000', '0.0000', '0.0000']\n",
      "\n",
      "Strike = 23.5\n"
     ]
    }
   ],
   "source": [
    "underlying = 23.71\n",
    "\n",
    "\n",
    "def check_strike(strike):\n",
    "    strike_str = \"{:01f}\".format(strike) \n",
    "    xpath_str = '(//*[contains(text(),\"Strike\")])[1]/../../../tr[td[1]=' + strike_str + ']'\n",
    "    try:\n",
    "        element = driver.find_element_by_xpath(xpath_str) # to locate the strike\n",
    "        xpath_str = '(//*[contains(text(),\"Strike\")])[1]/../../../tr[td[1]=' + strike_str + ']/following-sibling::tr'\n",
    "        element = driver.find_element_by_xpath(xpath_str) # to get the put contract data\n",
    "        return element.text\n",
    "    except:\n",
    "        return None\n",
    "    \n",
    "# Strike multiple of 0.5\n",
    "strike = int(underlying * 2)/2\n",
    "strike_txt = check_strike(strike)\n",
    "if not strike_txt:\n",
    "    strike=int(underlying)\n",
    "    strike_txt = check_strike(strike)\n",
    "    if not strike_txt:\n",
    "        strike=underlying-underlying%5\n",
    "        strike_txt = check_strike(strike)\n",
    "        if not strike_txt:\n",
    "            raise ValueError(\"ATM strike not found\")\n",
    "print(\"ATM strike text= {}\".format(strike_txt.split()))\n",
    "atm_text = strike_txt.split()\n",
    "print(\"\\nStrike = {}\".format(strike))\n",
    "result['strike'] = strike\n",
    "result['bid'] = atm_text[3]\n",
    "result['ask'] = atm_text[4]\n",
    "result['volume'] = atm_text[7]\n",
    "result['open_interest'] = atm_text[8]\n",
    "result['iv'] = atm_text[9]\n",
    "result"
   ]
  },
  {
   "cell_type": "markdown",
   "metadata": {},
   "source": [
    "# Final code until now"
   ]
  },
  {
   "cell_type": "code",
   "execution_count": 277,
   "metadata": {},
   "outputs": [
    {
     "data": {
      "text/plain": [
       "{'Expiration': 'Jun 08,, 2018',\n",
       " 'Underlying': 23.71,\n",
       " 'ask': '0.01',\n",
       " 'bid': '0.00',\n",
       " 'iv': '17.88%',\n",
       " 'open_interest': '799',\n",
       " 'strike': 23.5,\n",
       " 'ticker': 'HPQ',\n",
       " 'volume': '35'}"
      ]
     },
     "execution_count": 277,
     "metadata": {},
     "output_type": "execute_result"
    }
   ],
   "source": [
    "from selenium import webdriver\n",
    "from selenium.webdriver.common.keys import Keys\n",
    "from selenium.webdriver.support.ui import Select\n",
    "\n",
    "def check_strike(strike):\n",
    "    strike_str = \"{:01f}\".format(strike) \n",
    "    xpath_str = '(//*[contains(text(),\"Strike\")])[1]/../../../tr[td[1]=' + strike_str + ']'\n",
    "    try:\n",
    "        element = driver.find_element_by_xpath(xpath_str) # to locate the strike\n",
    "        xpath_str = '(//*[contains(text(),\"Strike\")])[1]/../../../tr[td[1]=' + strike_str + ']/following-sibling::tr'\n",
    "        element = driver.find_element_by_xpath(xpath_str) # to get the put contract data\n",
    "        return element.text\n",
    "    except:\n",
    "        return None\n",
    "    \n",
    "\n",
    "\n",
    "# OPEN THE QUOTES PAGE\n",
    "result = {}\n",
    "ticker = 'HPQ'\n",
    "driver = webdriver.Chrome()\n",
    "driver.get(\"https://www.optionseducation.org/quotes.html?quote=\" + ticker)\n",
    "try:\n",
    "    assert \"Quotes\" in driver.title\n",
    "except AssertionError:\n",
    "    print(\"Unknown page \\\"{page}\\\", please check opened browser\".format(page=driver.title))\n",
    "result['ticker'] = ticker\n",
    "\n",
    "# LOOK FOR TABLE PAGE\n",
    "xpath_str = '//div[@class=\"iframe iframeReference\"]/iframe'\n",
    "element = driver.find_element_by_xpath(xpath_str)\n",
    "#print(element. get_attribute(\"src\"))\n",
    "driver.get(element. get_attribute(\"src\"))\n",
    "\n",
    "# GET UNDERLYING PRICE\n",
    "xpath_str = '//*[td=\"Price\"]/../tr[2]/td[1]'\n",
    "element = driver.find_element_by_xpath(xpath_str)\n",
    "underlying = float(element.text)\n",
    "result['Underlying'] = underlying\n",
    "\n",
    "# GET THE EXPIRATION DATE\n",
    "xpath_str = '//*[contains(text(),\"Expiry\")]'\n",
    "element = driver.find_element_by_xpath(xpath_str)\n",
    "expiration = element.text.split()\n",
    "result['Expiration'] = \"{} {} {}\".format(expiration[1], expiration[2], expiration[3])\n",
    "\n",
    "# GET THE ATM STRIKE\n",
    "strike = int(underlying * 2)/2\n",
    "strike_txt = check_strike(strike)\n",
    "if not strike_txt:\n",
    "    strike=int(underlying)\n",
    "    strike_txt = check_strike(strike)\n",
    "    if not strike_txt:\n",
    "        strike=underlying-underlying%5\n",
    "        strike_txt = check_strike(strike)\n",
    "        if not strike_txt:\n",
    "            raise ValueError(\"ATM strike not found\")\n",
    "atm_text = strike_txt.split()\n",
    "result['strike'] = strike\n",
    "result['bid'] = atm_text[3]\n",
    "result['ask'] = atm_text[4]\n",
    "result['volume'] = atm_text[7]\n",
    "result['open_interest'] = atm_text[8]\n",
    "result['iv'] = atm_text[9]\n",
    "result"
   ]
  },
  {
   "cell_type": "markdown",
   "metadata": {},
   "source": [
    "# Selecting the ticker\n",
    "The information related to any ticker is shown when a search for a specific ticker is done.\n",
    "\n",
    "So first we have to look for the input field and then enter the ticker we want to look for.\n",
    "\n",
    "Before that, and because maybe we had opened the oath page before, we need to do a refresh of the driver and a check that really we are at the main page of finance.yahoo.com\n",
    "\n",
    "```\n",
    "driver.refresh()\n",
    "try:\n",
    "    assert \"Yahoo Finance\" in driver.title\n",
    "except AssertionError:\n",
    "    print(\"Unknown page {page}, please check opened browser\".format(page=driver.title))\n",
    "```\n",
    "\n",
    "The input element can be checked in the Çhorme inspector, in this case is:\n",
    "```\n",
    "<input type=\"text\" aria-label=\"Search\" autocomplete=\"off\" autocorrect=\"off\" autocapitalize=\"off\" class=\"Pos(r) W(100%) M(0) O(0) O(0):f Bgc(#fff) Z(2) Bxsh(n) Bxsh(n):f Fz(15px) Px(15px) Py(8px) Bdrs(0) Pstart(10px) Pend(10px) Va(t)\" name=\"p\" placeholder=\"Search for news, symbols or companies\" style=\"-webkit-appearance:none;\" value=\"\" data-reactid=\"55\">\n",
    "```\n",
    "\n",
    "Again using a xpath expression and looking for a name \"p\" should be enough:\n",
    "```\n",
    "element = driver.find_element_by_xpath(\"//input[@name='p']\")\n",
    "```\n",
    "Upon selected we have to send firt the keys related to the ticker (\"HPQ\") and finally the Keys.RETUN code:\n"
   ]
  },
  {
   "cell_type": "code",
   "execution_count": 1,
   "metadata": {},
   "outputs": [
    {
     "name": "stdout",
     "output_type": "stream",
     "text": [
      "Closing Oath screen\n"
     ]
    }
   ],
   "source": [
    "from selenium import webdriver\n",
    "from selenium.webdriver.common.keys import Keys\n",
    "from selenium.webdriver.support.ui import Select\n",
    "\n",
    "ticker = \"ilg\"\n",
    "driver = webdriver.Chrome()\n",
    "driver.get(\"https://finance.yahoo.com\")\n",
    "try:\n",
    "    assert \"Yahoo Finance\" in driver.title\n",
    "except AssertionError:\n",
    "    try:\n",
    "        assert \"Oath\" in driver.title\n",
    "    except AssertionError:\n",
    "        print(\"Unknown page {page}, please check opened browser\".format(page=driver.title))\n",
    "    else:\n",
    "        print(\"Closing Oath screen\")\n",
    "        element = driver.find_element_by_xpath(\"//input[@value='OK']\")\n",
    "        element.send_keys(Keys.RETURN)\n",
    "        driver.refresh()\n",
    "        try:\n",
    "            assert \"Yahoo Finance\" in driver.title\n",
    "        except AssertionError:\n",
    "            print(\"Unknown page {page}, please check opened browser\".format(page=driver.title))\n",
    "        else:\n",
    "            element = driver.find_element_by_xpath(\"//input[@name='p']\")\n",
    "            element.send_keys(ticker)\n",
    "            element.send_keys(Keys.RETURN)"
   ]
  },
  {
   "cell_type": "markdown",
   "metadata": {},
   "source": [
    "It can last several seconds since for example the element search is not done until the page is fully loaded.\n",
    "\n",
    "The page is loaded showing the summary tab as default. We want to extract some information from this page."
   ]
  },
  {
   "cell_type": "markdown",
   "metadata": {},
   "source": [
    "# Getting basic data\n",
    "## Security price\n",
    "The price is placed in the tag:\n",
    "```\n",
    "<span class=\"Trsdu(0.3s) Fw(b) Fz(36px) Mb(-4px) D(ib)\">22.03</span>\n",
    "```\n",
    "\n",
    "However this information is not enough. To get more detailed information, go to the page opened and open the inspector over the price, then right buttom and click copy> copy Xpath.\n",
    "\n",
    "We obtain something like:\n",
    "```\n",
    "//*[@id=\"quote-header-info\"]/div[3]/div[1]/div/span[1]\n",
    "```\n",
    "\n",
    "Let's try it out:"
   ]
  },
  {
   "cell_type": "code",
   "execution_count": 2,
   "metadata": {},
   "outputs": [
    {
     "name": "stdout",
     "output_type": "stream",
     "text": [
      "34.53\n"
     ]
    }
   ],
   "source": [
    "element = driver.find_element_by_xpath(\"//*[@id='quote-header-info']/div[3]/div[1]/div/span[1]\")\n",
    "print(element.text)"
   ]
  },
  {
   "cell_type": "markdown",
   "metadata": {},
   "source": [
    "## Information from summary table"
   ]
  },
  {
   "cell_type": "markdown",
   "metadata": {},
   "source": [
    "In the summary tab, there is a table full of awesome information, let's scrapt some.\n",
    "\n",
    "<img src=\"img\\table.png\" alt=\"Drawing\" style=\"width: 400px;\"/>\n",
    "\n",
    "We will follow the same procedure as before: in Chrome inspector we will generate the Xpath information of the specific element.\n",
    "\n",
    "### Dividend Yield\n",
    "The Xpath returned by Chrome is:\n",
    "```\n",
    "//*[@id=\"quote-summary\"]/div[2]/table/tbody/tr[6]/td[2]\n",
    "```\n"
   ]
  },
  {
   "cell_type": "code",
   "execution_count": 13,
   "metadata": {},
   "outputs": [
    {
     "name": "stdout",
     "output_type": "stream",
     "text": [
      "0.70 (2.17%)\n"
     ]
    }
   ],
   "source": [
    "# element.clear()\n",
    "element = driver.find_element_by_xpath(\"//*[@id='quote-summary']/div[2]/table/tbody/tr[6]/td[2]\")\n",
    "print(element.text)"
   ]
  },
  {
   "cell_type": "markdown",
   "metadata": {},
   "source": [
    "However this xpath is too much absolute-direction oriented, and this could be dangerous if the page environment changes, for example if something is inserted in. Let's try to look for a more relative address.\n",
    "\n",
    "To do that, we will get all the table trying to use the attributes in it. The html that manages the table is:\n",
    "<img src=\"img\\tablehtml.png\" alt=\"Drawing\" style=\"width: 600px;\"/>"
   ]
  },
  {
   "cell_type": "markdown",
   "metadata": {},
   "source": [
    "We could try to look for the \"div\" tag with attribute \"data-test\" equal to \"right-summary-table\", then the table below is the one we want\n",
    "\n",
    "The xpath will be:\n",
    "```\n",
    "\"//*[@id='quote-summary']//div[@data-test='right-summary-table']/table/tbody//tr\"\n",
    "```\n",
    "we must capture all the rows of the table, the code will be"
   ]
  },
  {
   "cell_type": "code",
   "execution_count": 14,
   "metadata": {},
   "outputs": [
    {
     "name": "stdout",
     "output_type": "stream",
     "text": [
      "Market Cap 4.293B\n",
      "Beta 1.34\n",
      "PE Ratio (TTM) 25.77\n",
      "EPS (TTM) 1.34\n",
      "Earnings Date Aug 1, 2018 - Aug 6, 2018\n",
      "Forward Dividend & Yield 0.70 (2.17%)\n",
      "Ex-Dividend Date 2018-03-15\n",
      "1y Target Est 36.00\n"
     ]
    }
   ],
   "source": [
    "xpath_table = \"//*[@id='quote-summary']//div[@data-test='right-summary-table']/table/tbody//tr\"\n",
    "elements = driver.find_elements_by_xpath(xpath_table)\n",
    "for element in elements:\n",
    "    print(element.text)\n",
    "    "
   ]
  },
  {
   "cell_type": "markdown",
   "metadata": {},
   "source": [
    "Because we are interested in just the yield, we have to split the text of element 5"
   ]
  },
  {
   "cell_type": "code",
   "execution_count": 18,
   "metadata": {},
   "outputs": [
    {
     "name": "stdout",
     "output_type": "stream",
     "text": [
      "Element 5: Forward Dividend & Yield 0.70 (2.17%)\n",
      "Dividend Yield: 2.17\n"
     ]
    }
   ],
   "source": [
    "dividend_yield = elements[5].text\n",
    "print(\"Element 5: {}\".format(dividend_yield))\n",
    "dividend_yield = dividend_yield.replace('%','(').split('(')[1]\n",
    "print(\"Dividend Yield: {}\".format(dividend_yield))"
   ]
  },
  {
   "cell_type": "markdown",
   "metadata": {},
   "source": [
    "\n",
    "### Ex Dividend Date (as string) and Market Cap\n",
    "\n",
    "Any data from that table can now be extracted by row and little of processing for example for the market capitalization and ex-dividend date"
   ]
  },
  {
   "cell_type": "code",
   "execution_count": 21,
   "metadata": {},
   "outputs": [
    {
     "name": "stdout",
     "output_type": "stream",
     "text": [
      "2018-03-15\n",
      "4.293B\n"
     ]
    }
   ],
   "source": [
    "ex_dividend_date = elements[6].text.split()[2]\n",
    "print(ex_dividend_date)\n",
    "market_cap = elements[0].text.split()[2]\n",
    "print(market_cap)"
   ]
  },
  {
   "cell_type": "markdown",
   "metadata": {},
   "source": [
    "# Historical data\n",
    "## Switching tab\n",
    "\n",
    "Let's say we want to get the closing price of the security in a given date. First we have to switch to the \"Historical Data\" tab:\n",
    "```\n",
    "//*[@id=\"quote-nav\"]/ul/li[9]/a/span\n",
    "```\n",
    "\n",
    "We will use the method click()"
   ]
  },
  {
   "cell_type": "code",
   "execution_count": 8,
   "metadata": {
    "collapsed": true
   },
   "outputs": [],
   "source": [
    "element = driver.find_element_by_xpath(\"//*[@id='quote-nav']/ul/li[9]/a\")\n",
    "element.send_keys(Keys.ENTER)"
   ]
  },
  {
   "cell_type": "markdown",
   "metadata": {},
   "source": [
    "## Selecting the timeframe\n",
    "Now the issue is that the quotes information is limited to some days per page. If we want to choose a specific date we will have to do using a drop down selection menu with two fields to enter the start and end dates:\n",
    "<img src=\"img\\timeframe.png\" alt=\"Drawing\" style=\"width: 600px;\"/>\n",
    "\n",
    "\n",
    "```\n",
    "<input type=\"text\" name=\"startDate\" maxlength=\"10\" placeholder=\"mm/dd/yyyy\" class=\"Bdrs(0) Bxsh(n)! Fz(s) Bxz(bb) D(ib) Bg(n) Pend(5px) Px(8px) Py(0) H(34px) Lh(34px) Bd O(n):f O(n):h Bdc($c-fuji-grey-c) Bdc($c-fuji-blue-1-b):f M(0) Pstart(10px) Bgc(white) W(90px) Mt(5px)\" value=\"6/1/2018\">\n",
    "\n",
    "//*[@id=\"Col1-1-HistoricalDataTable-Proxy\"]/section/div[1]/div[1]/div[1]/span[2]/div/input[1]\n",
    "```\n",
    "\n",
    "let's suppose we want to get the closing price of the security 5 years ago, first we have to introduce a valid timeframe that has our date, so let's take the start date 15 days before  five years ago (1840 days, 5\\*365 + 15 ) and the end date 15 days after five years ago (1810, 365/*5 - 15).\n",
    "\n",
    "What the page expects is a value fo the attribute \"value\" in this tag, in string format \"m/d/yyyy\":\n"
   ]
  },
  {
   "cell_type": "code",
   "execution_count": 9,
   "metadata": {},
   "outputs": [
    {
     "name": "stdout",
     "output_type": "stream",
     "text": [
      "Start date: 05/18/2013\n",
      "End date: 06/17/2013\n"
     ]
    }
   ],
   "source": [
    "from datetime import datetime, date, timedelta\n",
    "\n",
    "today = date.today()\n",
    "start_lapse = timedelta(days=365*5+15)\n",
    "end_lapse = timedelta(days=365*5-15)\n",
    "start_date = (today-start_lapse).strftime(\"%m/%d/%Y\")\n",
    "end_date = (today-end_lapse).strftime(\"%m/%d/%Y\")\n",
    "print(\"Start date: {start}\\nEnd date: {end}\".format(start=start_date, end=end_date))"
   ]
  },
  {
   "cell_type": "markdown",
   "metadata": {},
   "source": [
    "Now we have to select the dropdown menu, again using Xpath of Chrome:\n"
   ]
  },
  {
   "cell_type": "code",
   "execution_count": 10,
   "metadata": {
    "collapsed": true
   },
   "outputs": [],
   "source": [
    "#element = driver.find_element_by_xpath('//*[@id=\"Col1-1-HistoricalDataTable-Proxy\"]/section/div[1]/div[1]/div[1]/span[2]/span/input')\n",
    "element = driver.find_element_by_xpath('//*[@id=\"Col1-1-HistoricalDataTable-Proxy\"]/section//input[@data-test=\"date-picker-full-range\"]')\n",
    "element.click()"
   ]
  },
  {
   "cell_type": "markdown",
   "metadata": {},
   "source": [
    "Notice, that we have chosen a xpath avoiding absolute positions, since it could change from ticker to ticker. Indeed the xpath means:\n",
    "```\n",
    "<input type=\"text\" data-test=\"date-picker-full-range\" class=\"C(t) O(n):f Tsh($actionBlueTextShadow) Bd(n) Bgc(t) Fz(14px) Pos(r) T(-1px) Bd(n):f Bxsh(n):f Cur(p) W(190px)\" value=\"Jun 01, 2017 - Jun 01, 2018\">\n",
    "\n",
    "//*[@id=\"Col1-1-HistoricalDataTable-Proxy\"]/section//input[@data-test=\"date-picker-full-range\"]\n",
    "\n",
    "//*[@id=\"Col1-1-HistoricalDataTable-Proxy\"]  = Select all nodes with attribute id equal to \"Col1-1-HistoricalDataTable-Proxy\"\n",
    "/section                                     = Select the children section node of before nodes\n",
    "//input[@data-test=\"date-picker-full-range\"] = Select all nodes that are inputs with an attribute data-test value of \"date-picker-full-range\" and descendants of node before\n",
    "```\n",
    "\n",
    "once it's open we must introduce both dates:"
   ]
  },
  {
   "cell_type": "code",
   "execution_count": 11,
   "metadata": {
    "collapsed": true
   },
   "outputs": [],
   "source": [
    "element = driver.find_element_by_xpath('//*[@id=\"Col1-1-HistoricalDataTable-Proxy\"]/section//input[@name=\"startDate\"]')\n",
    "for i in range(10):\n",
    "    element.send_keys(Keys.DELETE)\n",
    "element.send_keys(start_date)\n",
    "element = driver.find_element_by_xpath('//*[@id=\"Col1-1-HistoricalDataTable-Proxy\"]/section//input[@name=\"endDate\"]')\n",
    "for i in range(10):\n",
    "    element.send_keys(Keys.BACKSPACE)\n",
    "element.send_keys(end_date)\n",
    "\n",
    "#driver.execute_script(\"arguments[0].value = arguments[1]\", element, start_date)\n",
    "#element.send_keys(Keys.ENTER)\n",
    "#print(element.get_attribute('value'))\n",
    "#element = driver.find_element_by_xpath('//*[@id=\"Col1-1-HistoricalDataTable-Proxy\"]/section/div[1]/div[1]/div[1]/span[2]/div/input[2]')\n",
    "#driver.execute_script(\"arguments[0].value = arguments[1]\", element, end_date)\n",
    "#element.send_keys(Keys.ENTER)\n",
    "#print(element.get_attribute('value'))"
   ]
  },
  {
   "cell_type": "markdown",
   "metadata": {},
   "source": [
    "Notice that we have used a sequence of Deletes and backspaces to erase the old dates information in the window. \n",
    "\n",
    "Finally click on the Done button and afterwards the apply button:"
   ]
  },
  {
   "cell_type": "code",
   "execution_count": 12,
   "metadata": {
    "collapsed": true
   },
   "outputs": [],
   "source": [
    "element = driver.find_element_by_xpath('//*[@id=\"Col1-1-HistoricalDataTable-Proxy\"]/section/div[1]/div[1]/div[1]/span[2]/div/div[3]/button[1]')\n",
    "element.click()\n",
    "element = driver.find_element_by_xpath('//*[@id=\"Col1-1-HistoricalDataTable-Proxy\"]/section/div[1]/div[1]/button')\n",
    "element.click()"
   ]
  },
  {
   "cell_type": "markdown",
   "metadata": {},
   "source": [
    "## Validating the dateframe\n",
    "it works. However it could happen that the introduced timeframe doesn't exist in the historical data of yahoo, if that happens then the button \"Done\" is not enabled such is shown:\n",
    "<img src=\"img\\notenabled.png\" alt=\"Drawing\" style=\"width: 600px;\"/>"
   ]
  },
  {
   "cell_type": "markdown",
   "metadata": {},
   "source": [
    "In this case a red text appears with a notification and the closing of that window doesn't work because is not enabled.\n",
    "\n",
    "The xpath position of the red line is:\n",
    "```\n",
    "//*[@id=\"Col1-1-HistoricalDataTable-Proxy\"]/section/div[1]/div[1]/div[1]/span[2]/div/span[3]\n",
    "```\n",
    "\n",
    "and it's inmediately below the input date fields that are located at span[2] such as it can be seen in their xpath and the Chrome inspector:\n",
    "```\n",
    "element = driver.find_element_by_xpath('//*[@id=\"Col1-1-HistoricalDataTable-Proxy\"]/section/div[1]/div[1]/div[1]/span[2]/div/input[1]')\n",
    "element = driver.find_element_by_xpath('//*[@id=\"Col1-1-HistoricalDataTable-Proxy\"]/section/div[1]/div[1]/div[1]/span[2]/div/input[2]')\n",
    "```\n",
    "\n",
    "It's more, if the date entry is right, then this red line (error reporting) doesn't exist and try to look for it will return an error:"
   ]
  },
  {
   "cell_type": "code",
   "execution_count": 13,
   "metadata": {},
   "outputs": [
    {
     "name": "stdout",
     "output_type": "stream",
     "text": [
      "'Start' date must be prior to 'End' date.\n"
     ]
    }
   ],
   "source": [
    "start_date = \"05/19/2000\"\n",
    "end_date = \"05/19/2001\"\n",
    "element = driver.find_element_by_xpath('//*[@id=\"Col1-1-HistoricalDataTable-Proxy\"]/section//input[@data-test=\"date-picker-full-range\"]')\n",
    "element.click()\n",
    "element = driver.find_element_by_xpath('//*[@id=\"Col1-1-HistoricalDataTable-Proxy\"]/section//input[@name=\"startDate\"]')\n",
    "for i in range(10):\n",
    "    element.send_keys(Keys.DELETE)\n",
    "element.send_keys(start_date)\n",
    "element = driver.find_element_by_xpath('//*[@id=\"Col1-1-HistoricalDataTable-Proxy\"]/section//input[@name=\"endDate\"]')\n",
    "for i in range(10):\n",
    "    element.send_keys(Keys.BACKSPACE)\n",
    "element.send_keys(end_date)\n",
    "element = driver.find_element_by_xpath('//*[@id=\"Col1-1-HistoricalDataTable-Proxy\"]/section/div[1]/div[1]/div[1]/span[2]/div/span[3]')\n",
    "print(element.text)"
   ]
  },
  {
   "cell_type": "code",
   "execution_count": 15,
   "metadata": {},
   "outputs": [
    {
     "name": "stdout",
     "output_type": "stream",
     "text": [
      "Error detected:\n",
      "Message: no such element: Unable to locate element: {\"method\":\"xpath\",\"selector\":\"//*[@id=\"Col1-1-HistoricalDataTable-Proxy\"]/section/div[1]/div[1]/div[1]/span[2]/div/span[3]\"}\n",
      "  (Session info: chrome=66.0.3359.181)\n",
      "  (Driver info: chromedriver=2.38.552522 (437e6fbedfa8762dec75e2c5b3ddb86763dc9dcb),platform=Windows NT 6.3.9600 x86_64)\n",
      "\n"
     ]
    }
   ],
   "source": [
    "start_date = \"05/18/2016\"\n",
    "end_date = \"05/19/2017\"\n",
    "element = driver.find_element_by_xpath('//*[@id=\"Col1-1-HistoricalDataTable-Proxy\"]/section//input[@data-test=\"date-picker-full-range\"]')\n",
    "element.click()\n",
    "element = driver.find_element_by_xpath('//*[@id=\"Col1-1-HistoricalDataTable-Proxy\"]/section//input[@name=\"startDate\"]')\n",
    "for i in range(10):\n",
    "    element.send_keys(Keys.DELETE)\n",
    "element.send_keys(start_date)\n",
    "element = driver.find_element_by_xpath('//*[@id=\"Col1-1-HistoricalDataTable-Proxy\"]/section//input[@name=\"endDate\"]')\n",
    "for i in range(10):\n",
    "    element.send_keys(Keys.BACKSPACE)\n",
    "element.send_keys(end_date)\n",
    "try:\n",
    "    element = driver.find_element_by_xpath('//*[@id=\"Col1-1-HistoricalDataTable-Proxy\"]/section/div[1]/div[1]/div[1]/span[2]/div/span[3]')\n",
    "except Exception as e:\n",
    "    print(\"Error detected:\\n{}\".format(e))"
   ]
  },
  {
   "cell_type": "raw",
   "metadata": {},
   "source": [
    "Therefore we have to check for the presence of this line and try to detect the \"NoSuchElementException\", then the date timeframe would be validated.\n",
    "\n",
    "Otherwise the method should click the \"Cancel\" button and return a None value since the date is not in the historical database. The cancel button xpath is:\n",
    "```\n",
    "//*[@id=\"Col1-1-HistoricalDataTable-Proxy\"]/section/div[1]/div[1]/div[1]/span[2]/div/div[3]/button[2]\n",
    "```\n"
   ]
  },
  {
   "cell_type": "code",
   "execution_count": 16,
   "metadata": {
    "collapsed": true
   },
   "outputs": [],
   "source": [
    "start_date = \"05/19/2013\"\n",
    "end_date = \"06/19/2013\"\n",
    "# Opent the timeframe window\n",
    "element = driver.find_element_by_xpath('//*[@id=\"Col1-1-HistoricalDataTable-Proxy\"]/section//input[@data-test=\"date-picker-full-range\"]')\n",
    "element.click()\n",
    "# Select start date field\n",
    "element = driver.find_element_by_xpath('//*[@id=\"Col1-1-HistoricalDataTable-Proxy\"]/section//input[@name=\"startDate\"]')\n",
    "for i in range(10):\n",
    "    element.send_keys(Keys.DELETE) # Deleting default content of datafield\n",
    "element.send_keys(start_date) # Writing start date in the field\n",
    "# Select end date field\n",
    "element = driver.find_element_by_xpath('//*[@id=\"Col1-1-HistoricalDataTable-Proxy\"]/section//input[@name=\"endDate\"]')\n",
    "for i in range(10):\n",
    "    element.send_keys(Keys.BACKSPACE)\n",
    "element.send_keys(end_date)\n",
    "# Check if error message is present\n",
    "try:\n",
    "    element = driver.find_element_by_xpath('//*[@id=\"Col1-1-HistoricalDataTable-Proxy\"]/section/div[1]/div[1]/div[1]/span[2]/div/span[3]')\n",
    "except:\n",
    "    # Dates validated\n",
    "    # Applying introduced timeframes\n",
    "    element = driver.find_element_by_xpath('//*[@id=\"Col1-1-HistoricalDataTable-Proxy\"]/section/div[1]/div[1]/div[1]/span[2]/div/div[3]/button[1]')\n",
    "    element.click()\n",
    "    element = driver.find_element_by_xpath('//*[@id=\"Col1-1-HistoricalDataTable-Proxy\"]/section/div[1]/div[1]/button')\n",
    "    element.click()\n",
    "else:\n",
    "    # Dates not validated, error reported\n",
    "    # Closing timeframe window\n",
    "    element = driver.find_element_by_xpath('//*[@id=\"Col1-1-HistoricalDataTable-Proxy\"]/section/div[1]/div[1]/div[1]/span[2]/div/div[3]/button[2]')\n",
    "    element.click()"
   ]
  },
  {
   "cell_type": "markdown",
   "metadata": {},
   "source": [
    "## Validating the date historical date existence\n",
    "Now, the quotes table of the timeframe is shown. It could happen that the actual date doesn't exist in the database (for example is Sunday and markets are closed). Therefore another try-except must be done in order to check the availability of this information:"
   ]
  },
  {
   "cell_type": "code",
   "execution_count": 17,
   "metadata": {},
   "outputs": [
    {
     "name": "stdout",
     "output_type": "stream",
     "text": [
      "Jun 02, 2013\n"
     ]
    }
   ],
   "source": [
    "current_date = date.today()\n",
    "lapse = timedelta(days=365*5)\n",
    "end_date = (today-lapse).strftime(\"%b %d, %Y\")\n",
    "print(end_date)"
   ]
  },
  {
   "cell_type": "code",
   "execution_count": 18,
   "metadata": {},
   "outputs": [
    {
     "name": "stdout",
     "output_type": "stream",
     "text": [
      "error\n"
     ]
    }
   ],
   "source": [
    "xpath_date = '//*[@id=\"Col1-1-HistoricalDataTable-Proxy\"]/section/div[2]/table/tbody//td[span=\"' + end_date +'\"]'\n",
    "try:\n",
    "    element = driver.find_element_by_xpath(xpath_date)\n",
    "except:\n",
    "    print(\"error\")\n",
    "else:\n",
    "    print(element.text)"
   ]
  },
  {
   "cell_type": "markdown",
   "metadata": {},
   "source": [
    "In case of error, the closest day before has to be chosen, so a loop decreasing dates must be implemented until a valid quote is detected.\n",
    "\n",
    "One way of doing that is iterating the search in the web page like:\n"
   ]
  },
  {
   "cell_type": "code",
   "execution_count": 19,
   "metadata": {},
   "outputs": [
    {
     "name": "stdout",
     "output_type": "stream",
     "text": [
      "Jun 02, 2013\n",
      "error date Jun 02, 2013\n",
      "error date Jun 01, 2013\n",
      "May 31, 2013\n"
     ]
    }
   ],
   "source": [
    "current_date = date.today()\n",
    "end_date = current_date - timedelta(days=365*5)\n",
    "end_date_str = end_date.strftime(\"%b %d, %Y\")\n",
    "print(end_date_str)\n",
    "while True:\n",
    "    end_date_str = end_date.strftime(\"%b %d, %Y\")\n",
    "    xpath_date = '//*[@id=\"Col1-1-HistoricalDataTable-Proxy\"]/section/div[2]/table/tbody//td[span=\"' + end_date_str +'\"]'\n",
    "    try:\n",
    "        element = driver.find_element_by_xpath(xpath_date)\n",
    "    except:\n",
    "        print(\"error date {}\".format(end_date_str))\n",
    "        end_date = end_date - timedelta(days=1)\n",
    "    else:\n",
    "        print(element.text)\n",
    "        break"
   ]
  },
  {
   "cell_type": "markdown",
   "metadata": {},
   "source": [
    "Now, we have to select the parent of this node, and split its text, the value that we are looking for is the Adjusted closed which is the 8th item of the list"
   ]
  },
  {
   "cell_type": "code",
   "execution_count": 20,
   "metadata": {},
   "outputs": [
    {
     "name": "stdout",
     "output_type": "stream",
     "text": [
      "Adjusted close = 19.21\n"
     ]
    }
   ],
   "source": [
    "element = driver.find_element_by_xpath(xpath_date + '/..')\n",
    "adj_close = element.text.split()[7]\n",
    "print(\"Adjusted close = {}\".format(adj_close))"
   ]
  },
  {
   "cell_type": "markdown",
   "metadata": {},
   "source": [
    "However, it makes more sense to get all the quotes table and just look for the date string in the list:"
   ]
  },
  {
   "cell_type": "code",
   "execution_count": 21,
   "metadata": {},
   "outputs": [
    {
     "name": "stdout",
     "output_type": "stream",
     "text": [
      "Jun 02, 2013\n",
      "19.21\n"
     ]
    }
   ],
   "source": [
    "timeframeIsValid = True\n",
    "# Get the quotes\n",
    "if not timeframeIsValid:\n",
    "    adj_close = None\n",
    "else:\n",
    "    current_date = date.today()\n",
    "    end_date = current_date - timedelta(days=365*5)\n",
    "    end_date_str = end_date.strftime(\"%b %d, %Y\")\n",
    "    print(end_date_str)\n",
    "    xpath_date = '//*[@id=\"Col1-1-HistoricalDataTable-Proxy\"]/section/div[2]/table/tbody//tr' # to get all the table\n",
    "    elements = driver.find_elements_by_xpath(xpath_date)\n",
    "    adj_close = None\n",
    "    while True:\n",
    "        for element in elements:\n",
    "            if end_date_str in element.text:\n",
    "                adj_close = element.text.split()[7]\n",
    "                break\n",
    "        if adj_close:\n",
    "            break\n",
    "        else:\n",
    "            end_date = end_date - timedelta(days=1)\n",
    "            end_date_str = end_date.strftime(\"%b %d, %Y\")\n",
    "    print(adj_close)"
   ]
  },
  {
   "cell_type": "markdown",
   "metadata": {},
   "source": [
    "## Final Code\n",
    "\n",
    "We needed to add a block code to wait when switching from summary tab to historical data, this is because all the videos, staff and scrap that the page has to load before enabling the interaction with the user"
   ]
  },
  {
   "cell_type": "code",
   "execution_count": 33,
   "metadata": {},
   "outputs": [
    {
     "name": "stdout",
     "output_type": "stream",
     "text": [
      "Jun 02, 2013\n",
      "Adjusted Close = 19.21\n"
     ]
    }
   ],
   "source": [
    "from datetime import datetime, date, timedelta\n",
    "from selenium.webdriver.support.ui import WebDriverWait\n",
    "from selenium.webdriver.support import expected_conditions as EC\n",
    "from selenium.webdriver.common.by import By\n",
    "import time\n",
    "\n",
    "\n",
    "# Select historical Data Tab\n",
    "element = driver.find_element_by_xpath(\"//*[@id='quote-nav']/ul/li[9]/a\")\n",
    "element.send_keys(Keys.ENTER)\n",
    "\n",
    "# Calculate start and end dates for the timeframe\n",
    "today = date.today()\n",
    "start_lapse = timedelta(days=365*5+15)\n",
    "end_lapse = timedelta(days=365*5-15)\n",
    "start_date = (today-start_lapse).strftime(\"%m/%d/%Y\")\n",
    "end_date = (today-end_lapse).strftime(\"%m/%d/%Y\")\n",
    "#print(\"Start date: {start}\\nEnd date: {end}\".format(start=start_date, end=end_date))\n",
    "\n",
    "# Open the timeframe window\n",
    "try: # this block implements a wait for the load of the table element, after 5 seconds a timeout is error is produced\n",
    "    element = WebDriverWait(driver, 5).until(EC.presence_of_element_located((By.ID, \"Col1-1-HistoricalDataTable-Proxy\")))\n",
    "except:\n",
    "    raise\n",
    "time.sleep(1)\n",
    "element = driver.find_element_by_xpath('//*[@id=\"Col1-1-HistoricalDataTable-Proxy\"]/section//input[@data-test=\"date-picker-full-range\"]')\n",
    "element.click()\n",
    "\n",
    "# Select start date field and introduce start_date\n",
    "element = driver.find_element_by_xpath('//*[@id=\"Col1-1-HistoricalDataTable-Proxy\"]/section//input[@name=\"startDate\"]')\n",
    "for i in range(10):\n",
    "    element.send_keys(Keys.DELETE) # Deleting default content of datafield\n",
    "element.send_keys(start_date) # Writing start date in the field\n",
    "\n",
    "# Select end date field and introduce end_date\n",
    "element = driver.find_element_by_xpath('//*[@id=\"Col1-1-HistoricalDataTable-Proxy\"]/section//input[@name=\"endDate\"]')\n",
    "for i in range(10):\n",
    "    element.send_keys(Keys.BACKSPACE)\n",
    "element.send_keys(end_date)\n",
    "\n",
    "# Validate timeframe\n",
    "# Check if error message is present\n",
    "try:\n",
    "    element = driver.find_element_by_xpath('//*[@id=\"Col1-1-HistoricalDataTable-Proxy\"]/section/div[1]/div[1]/div[1]/span[2]/div/span[3]')\n",
    "except:\n",
    "    # Dates validated\n",
    "    # Applying introduced timeframes\n",
    "    element = driver.find_element_by_xpath('//*[@id=\"Col1-1-HistoricalDataTable-Proxy\"]/section/div[1]/div[1]/div[1]/span[2]/div/div[3]/button[1]')\n",
    "    element.click()\n",
    "    element = driver.find_element_by_xpath('//*[@id=\"Col1-1-HistoricalDataTable-Proxy\"]/section/div[1]/div[1]/button')\n",
    "    element.click()\n",
    "    timeframeIsValid = True\n",
    "else:\n",
    "    # Dates not validated, error reported\n",
    "    # Closing timeframe window\n",
    "    element = driver.find_element_by_xpath('//*[@id=\"Col1-1-HistoricalDataTable-Proxy\"]/section/div[1]/div[1]/div[1]/span[2]/div/div[3]/button[2]')\n",
    "    element.click()\n",
    "    timeframeIsValid = False\n",
    "\n",
    "# Get the quotes\n",
    "if not timeframeIsValid:\n",
    "    adj_close = None\n",
    "else:\n",
    "    current_date = date.today()\n",
    "    end_date = current_date - timedelta(days=365*5)\n",
    "    end_date_str = end_date.strftime(\"%b %d, %Y\")\n",
    "    print(end_date_str)\n",
    "    xpath_date = '//*[@id=\"Col1-1-HistoricalDataTable-Proxy\"]/section/div[2]/table/tbody//tr' # to get all the table\n",
    "    elements = driver.find_elements_by_xpath(xpath_date)\n",
    "    adj_close = None\n",
    "    while True:\n",
    "        for element in elements:\n",
    "            try:\n",
    "                if end_date_str in element.text:\n",
    "                    adj_close = element.text.split()[7]\n",
    "                    break\n",
    "            except:\n",
    "                pass\n",
    "        if adj_close:\n",
    "            break\n",
    "        else:\n",
    "            end_date = end_date - timedelta(days=1)\n",
    "            end_date_str = end_date.strftime(\"%b %d, %Y\")\n",
    "    print(\"Adjusted Close = {}\".format(adj_close))"
   ]
  },
  {
   "cell_type": "markdown",
   "metadata": {
    "collapsed": true
   },
   "source": [
    "## Refractoring the code\n",
    "Now the code is just a collection of script, let's organize it by  classes "
   ]
  },
  {
   "cell_type": "code",
   "execution_count": 8,
   "metadata": {
    "collapsed": true,
    "scrolled": true
   },
   "outputs": [],
   "source": [
    "from selenium import webdriver\n",
    "from selenium.webdriver.common.keys import Keys\n",
    "from selenium.webdriver.support.ui import Select, WebDriverWait\n",
    "from selenium.webdriver.support import expected_conditions as EC\n",
    "from selenium.webdriver.common.by import By\n",
    "import time\n",
    "from datetime import datetime, date, timedelta\n",
    "\n",
    "class Selenium_Driver:\n",
    "    \"\"\"Creation and management of a Selenium chrome driver\"\"\"\n",
    "    def __init__(self, web_page, chrome_options=None):\n",
    "        if chrome_options:\n",
    "            self.driver = webdriver.Chrome(chrome_options=chrome_options)\n",
    "        else:\n",
    "            self.driver = webdriver.Chrome()\n",
    "        self.driver.get(web_page)\n",
    "        \n",
    "    def get_cookies(self):\n",
    "        return self.driver.get_cookies()\n",
    "    \n",
    "    def delete_all_cookies(self):\n",
    "        self.driver.delete_all_cookies()\n",
    "                \n",
    "    def check_page_title(self, title):\n",
    "        if not self.driver:\n",
    "            raise ValueError(\"webdriver is not initialitated\")\n",
    "        try:\n",
    "            assert title in self.driver.title\n",
    "            return 0\n",
    "        except AssertionError:\n",
    "            return self.driver.title\n",
    "\n",
    "    def send_keys(self, xpath_str, keys, elementToBeClosed=False):\n",
    "        if not self.driver:\n",
    "            raise ValueError(\"webdriver is not initialitated\")\n",
    "        try:\n",
    "            element = self.driver.find_element_by_xpath(xpath_str)\n",
    "            element.send_keys(keys)\n",
    "            if elementToBeClosed:\n",
    "                element.clear()\n",
    "        except Exception as e:\n",
    "            print('Error while sending keys \"{keys}\". Error reported:\\n{err}'.format(keys=keys, err=e))\n",
    "            return 1\n",
    "        else:\n",
    "            return 0\n",
    "    def send_n_keys(self, xpath_str, keys, n, elementToBeClosed=False):\n",
    "        if not self.driver:\n",
    "            raise ValueError(\"webdriver is not initialitated\")\n",
    "        try:\n",
    "            element = self.driver.find_element_by_xpath(xpath_str)\n",
    "            for count in range(n):\n",
    "                element.send_keys(keys)\n",
    "            if elementToBeClosed:\n",
    "                element.clear()\n",
    "        except Exception as e:\n",
    "            print('Error while sending keys \"{keys}\". Error reported:\\n{err}'.format(keys=keys, err=e))\n",
    "            return 1\n",
    "        else:\n",
    "            return 0\n",
    "    def send_click(self, xpath_str, elementToBeClosed=False):\n",
    "        if not self.driver:\n",
    "            raise ValueError(\"webdriver is not initialitated\")\n",
    "        try:\n",
    "            element = self.driver.find_element_by_xpath(xpath_str)\n",
    "            element.click()\n",
    "            if elementToBeClosed:\n",
    "                element.clear()\n",
    "        except Exception as e:\n",
    "            print('Error while sending click. Error reported:\\n{err}'.format(keys=keys, err=e))\n",
    "            return 1\n",
    "        else:\n",
    "            return 0\n",
    "        \n",
    "    def get_element(self, xpath_str):\n",
    "        return self.driver.find_element_by_xpath(xpath_str)\n",
    "    \n",
    "    def get_elements(self, xpath_str):\n",
    "        return self.driver.find_elements_by_xpath(xpath_str)\n",
    "    \n",
    "    def close_driver(self):\n",
    "        self.driver.close()\n",
    "    \n",
    "    def wait_for_element_ID(self, id_str, wait_time):\n",
    "        try: # this block implements a wait for the load of the table element\n",
    "            # after 5 seconds a timeout is error is produced\n",
    "            element = WebDriverWait(self.driver,\n",
    "                                    wait_time).until(EC.presence_of_element_located((By.ID, id_str)))\n",
    "        except:\n",
    "            raise\n",
    "        time.sleep(1)\n",
    "        \n",
    "    def wait_for_element_XPath(self, xpath_str, wait_time):\n",
    "        try: # this block implements a wait for the load of the table element\n",
    "            # after 5 seconds a timeout is error is produced\n",
    "            element = WebDriverWait(self.driver,\n",
    "                                    wait_time).until(EC.presence_of_element_located((By.XPATH, xpath_str)))\n",
    "        except:\n",
    "            raise\n",
    "        time.sleep(1)\n",
    "            \n",
    "class Finance_Yahoo_Navigation(Selenium_Driver):\n",
    "    \"\"\"Manage navigation in yahoo.finance.page using Chrome\"\"\"\n",
    "    \n",
    "    def __init__(self, delete_cookies=True, chrome_options=None):\n",
    "        super().__init__(\"https://finance.yahoo.com\", chrome_options)\n",
    "        if type(self.check_page_title(\"Yahoo Finance\")) is str:\n",
    "            if \"Oath\" in self.driver.title:\n",
    "                self.send_keys(\"//input[@value='OK']\", Keys.RETURN)\n",
    "            else:\n",
    "                raise ValueError(\"Unknown page {page},\"\n",
    "                                 \" please check opened browser\".format(page=self.driver.title))\n",
    "            if type(self.check_page_title(\"Yahoo Finance\")) is str: # do another check after closing oath page\n",
    "                self.driver.refresh()\n",
    "                raise ValueError(\"Unknown page {page},\"\n",
    "                                 \" please check opened browser\".format(page=self.driver.title))\n",
    "        if delete_cookies:\n",
    "            self.delete_all_cookies()\n",
    "        \n",
    "    def select_ticker(self, ticker):\n",
    "        self.send_keys(\"//input[@name='p']\", ticker + Keys.RETURN)\n",
    "        self.summ_table_elements = None\n",
    "    \n",
    "    def select_tab(self, tab_id):\n",
    "        tab_dic = {\"Summary\":\"1\", \"Historical Data\":\"9\"}\n",
    "        tab_str = \"//*[@id='quote-nav']/ul/li[\" + tab_dic[tab_id] + \"]/a\"\n",
    "        self.wait_for_element_XPath(tab_str,60)\n",
    "        self.send_keys(tab_str, Keys.ENTER)\n",
    "        \n",
    "    def get_current_price(self, click_summary_tab_first=False):\n",
    "        if click_summary_tab_first:\n",
    "            self.select_tab(\"Summary\")\n",
    "        xpath_str = \"//*[@id='Lead-2-QuoteHeader-Proxy']/div[@id='quote-header-info']/div[3]/div[1]/div/span[1]\"\n",
    "        self.wait_for_element_XPath(xpath_str, 60)\n",
    "        element = self.get_element(xpath_str)\n",
    "        return element.text\n",
    "    \n",
    "    def _get_summary_table(self, click_summary_tab_first=False):\n",
    "        if click_summary_tab_first:\n",
    "            self.select_tab(\"Summary\")\n",
    "        xpath_str = \"//*[@id='quote-summary']//div[@data-test='right-summary-table']/table/tbody//tr\"\n",
    "        self.wait_for_element_XPath(xpath_str, 60)\n",
    "        self.summ_table_elements = self.get_elements(xpath_str)\n",
    "        \n",
    "    def get_dividend_yield(self, click_summary_tab_first=False):\n",
    "        if not self.summ_table_elements:\n",
    "            self._get_summary_table(click_summary_tab_first)\n",
    "        return self.summ_table_elements[5].text.replace('%','(').split('(')[1]\n",
    "    \n",
    "    def get_ex_dividend_date(self, click_summary_tab_first=False):\n",
    "        if not self.summ_table_elements:\n",
    "            self._get_summary_table(click_summary_tab_first)\n",
    "        return self.summ_table_elements[6].text.split()[2]\n",
    "    \n",
    "    def get_market_cap(self, click_summary_tab_first=False):\n",
    "        if not self.summ_table_elements:\n",
    "            self._get_summary_table(click_summary_tab_first)\n",
    "        return self.summ_table_elements[0].text.split()[2]\n",
    "    \n",
    "    def _calculate_timeframe_dates(self, current_day, days):\n",
    "        start_lapse = timedelta(days=days+15)\n",
    "        end_lapse = timedelta(days=days-15)\n",
    "        self.start_date = current_day-start_lapse\n",
    "        self.end_date = current_day-end_lapse\n",
    "    \n",
    "    def _get_quotes_table(self):\n",
    "        xpath_date = '//*[@id=\"Col1-1-HistoricalDataTable-Proxy\"]/section/div[2]/table/tbody//tr' # to get all the table\n",
    "        return self.driver.find_elements_by_xpath(xpath_date)\n",
    "    \n",
    "    def get_ndays_quotes(self, ndays, click_historical_data_first=False):\n",
    "        if click_historical_data_first:\n",
    "            self.select_tab(\"Historical Data\")\n",
    "        self._calculate_timeframe_dates(date.today(), ndays)\n",
    "        \n",
    "        # Open the timeframe window\n",
    "        time_frame_xpath = '//*[@id=\"Col1-1-HistoricalDataTable-Proxy\"]/section//input[@data-test=\"date-picker-full-range\"]'\n",
    "        self.wait_for_element_XPath(time_frame_xpath, 60)\n",
    "        self.send_click(time_frame_xpath)\n",
    "        \n",
    "        # Select start date field and introduce start_date\n",
    "        self.send_n_keys('//*[@id=\"Col1-1-HistoricalDataTable-Proxy\"]/section//input[@name=\"startDate\"]',\n",
    "                        Keys.DELETE, 10)\n",
    "        self.send_keys('//*[@id=\"Col1-1-HistoricalDataTable-Proxy\"]/section//input[@name=\"startDate\"]',\n",
    "                        self.start_date.strftime(\"%m/%d/%Y\"))\n",
    "        \n",
    "        # Select end date field and introduce end_date\n",
    "        self.send_n_keys('//*[@id=\"Col1-1-HistoricalDataTable-Proxy\"]/section//input[@name=\"endDate\"]',\n",
    "                        Keys.BACKSPACE, 10)\n",
    "        self.send_keys('//*[@id=\"Col1-1-HistoricalDataTable-Proxy\"]/section//input[@name=\"endDate\"]',\n",
    "                        self.end_date.strftime(\"%m/%d/%Y\"))\n",
    "        \n",
    "        # Validate timeframe\n",
    "        try:\n",
    "            # Check if error message is present\n",
    "            element = self.driver.find_element_by_xpath('//*[@id=\"Col1-1-HistoricalDataTable-Proxy\"]/section/div[1]/div[1]/div[1]/span[2]/div/span[3]')\n",
    "        except:\n",
    "            # Dates validated, error message is not present\n",
    "            # Applying introduced timeframes\n",
    "            self.send_click('//*[@id=\"Col1-1-HistoricalDataTable-Proxy\"]/section/div[1]/div[1]/div[1]/span[2]/div/div[3]/button[1]')\n",
    "            self.send_click('//*[@id=\"Col1-1-HistoricalDataTable-Proxy\"]/section/div[1]/div[1]/button')\n",
    "        else:\n",
    "            # Dates not validated, error reported\n",
    "            # Closing timeframe window\n",
    "            self.send_click('//*[@id=\"Col1-1-HistoricalDataTable-Proxy\"]/section/div[1]/div[1]/div[1]/span[2]/div/div[3]/button[2]')\n",
    "            return None\n",
    "            \n",
    "        # Get the quotes\n",
    "        five_years_date = date.today()-timedelta(days=ndays)\n",
    "        five_years_date_str = five_years_date.strftime(\"%b %d, %Y\")\n",
    "        quotes_table = self._get_quotes_table()\n",
    "        while quotes_table:\n",
    "            for element in quotes_table:\n",
    "                try:\n",
    "                    if five_years_date_str in element.text:\n",
    "                        return element.text.split()[7]\n",
    "                except:\n",
    "                    pass\n",
    "            five_years_date = five_years_date - timedelta(days=1)\n",
    "            five_years_date_str = five_years_date.strftime(\"%b %d, %Y\")\n",
    "        return None\n"
   ]
  },
  {
   "cell_type": "code",
   "execution_count": 84,
   "metadata": {},
   "outputs": [
    {
     "name": "stdout",
     "output_type": "stream",
     "text": [
      "Current price = 22.68\n",
      "Dividend Yield: 2.52\n",
      "ex_dividend_date: 2018-06-12\n",
      "market_cap: 37.226B\n",
      "Five years ago close: 9.20\n",
      "One year ago close: 18.45\n",
      "One month ago close: 21.55\n"
     ]
    }
   ],
   "source": [
    "results ={}\n",
    "\n",
    "# OPEN finance.yahoo.com ACCEPTING Oath PAGE IF NEEDED\n",
    "fyn = Finance_Yahoo_Navigation(delete_cookies=False)\n",
    "\n",
    "# INTRODUCE TICKER\n",
    "ticker = \"HPQ\"\n",
    "results['ticker'] = ticker\n",
    "fyn.select_ticker(ticker)\n",
    "\n",
    "# GET CURRENT PRICE\n",
    "results['Price'] = fyn.get_current_price(click_summary_tab_first=False)\n",
    "print(\"Current price = {}\".format(results['Price']))\n",
    "\n",
    "# COLLECT SUMMARY DATA\n",
    "results['dividend_yield'] = fyn.get_dividend_yield(click_summary_tab_first=False)\n",
    "results['ex_dividend_date'] = fyn.get_ex_dividend_date(click_summary_tab_first=False)\n",
    "results['market_cap'] = fyn.get_market_cap(click_summary_tab_first=False)\n",
    "print(\"Dividend Yield: {}\".format(results['dividend_yield']))\n",
    "print(\"ex_dividend_date: {}\".format(results['ex_dividend_date']))\n",
    "print(\"market_cap: {}\".format(results['market_cap']))\n",
    "\n",
    "# GET HISTORICAL DATA\n",
    "results['five_years_close'] = fyn.get_ndays_quotes(ndays=365*5, click_historical_data_first=True)\n",
    "results['one_year_close'] = fyn.get_ndays_quotes(ndays=365, click_historical_data_first=False)\n",
    "results['one_month_close'] = fyn.get_ndays_quotes(ndays=30, click_historical_data_first=False)\n",
    "print(\"Five years ago close: {}\".format(results['five_years_close']))\n",
    "print(\"One year ago close: {}\".format(results['one_year_close']))\n",
    "print(\"One month ago close: {}\".format(results['one_month_close']))\n"
   ]
  },
  {
   "cell_type": "markdown",
   "metadata": {
    "collapsed": true
   },
   "source": [
    "## Download data\n",
    "The previous code works well, however it is needed a lot of time to get the quotes information because the delay introduced by yahoo to load ads, videos and all kind of scrapt.\n",
    "\n",
    "On the other hand, the idea is to do periodical access to the historical data to observe the evolution of the predictions, so perhaps a good option would be to download all the data and only access when the data needed is not available in the local downloaded files.\n",
    "\n",
    "### Selecting the timeframe\n",
    "Let's assume we want to have access to the last 10 years quotation.\n",
    "\n",
    "I added a new method (get_historical_date) in Finance_Yahoo_Navigation classe. The final class code to do that will be:"
   ]
  },
  {
   "cell_type": "code",
   "execution_count": 15,
   "metadata": {
    "collapsed": true
   },
   "outputs": [],
   "source": [
    "\n",
    "class Finance_Yahoo_Navigation(Selenium_Driver):\n",
    "    \"\"\"Manage navigation in yahoo.finance.page using Chrome\"\"\"\n",
    "    \n",
    "    def __init__(self, delete_cookies=True, chrome_options=None):\n",
    "        super().__init__(\"https://finance.yahoo.com\", chrome_options)\n",
    "        if type(self.check_page_title(\"Yahoo Finance\")) is str:\n",
    "            if \"Oath\" in self.driver.title:\n",
    "                self.send_keys(\"//input[@value='OK']\", Keys.RETURN)\n",
    "            else:\n",
    "                raise ValueError(\"Unknown page {page},\"\n",
    "                                 \" please check opened browser\".format(page=self.driver.title))\n",
    "            if type(self.check_page_title(\"Yahoo Finance\")) is str: # do another check after closing oath page\n",
    "                self.driver.refresh()\n",
    "                raise ValueError(\"Unknown page {page},\"\n",
    "                                 \" please check opened browser\".format(page=self.driver.title))\n",
    "        if delete_cookies:\n",
    "            self.delete_all_cookies()\n",
    "        \n",
    "    def select_ticker(self, ticker):\n",
    "        self.send_keys(\"//input[@name='p']\", ticker + Keys.RETURN)\n",
    "        self.summ_table_elements = None\n",
    "    \n",
    "    def select_tab(self, tab_id):\n",
    "        tab_dic = {\"Summary\":\"1\", \"Historical Data\":\"9\"}\n",
    "        tab_str = \"//*[@id='quote-nav']/ul/li[\" + tab_dic[tab_id] + \"]/a\"\n",
    "        self.wait_for_element_XPath(tab_str,60)\n",
    "        self.send_keys(tab_str, Keys.ENTER)\n",
    "        \n",
    "    def get_current_price(self, click_summary_tab_first=False):\n",
    "        if click_summary_tab_first:\n",
    "            self.select_tab(\"Summary\")\n",
    "        xpath_str = \"//*[@id='Lead-2-QuoteHeader-Proxy']/div[@id='quote-header-info']/div[3]/div[1]/div/span[1]\"\n",
    "        self.wait_for_element_XPath(xpath_str, 60)\n",
    "        element = self.get_element(xpath_str)\n",
    "        return element.text\n",
    "    \n",
    "    def _get_summary_table(self, click_summary_tab_first=False):\n",
    "        if click_summary_tab_first:\n",
    "            self.select_tab(\"Summary\")\n",
    "        xpath_str = \"//*[@id='quote-summary']//div[@data-test='right-summary-table']/table/tbody//tr\"\n",
    "        self.wait_for_element_XPath(xpath_str, 60)\n",
    "        self.summ_table_elements = self.get_elements(xpath_str)\n",
    "        \n",
    "    def get_dividend_yield(self, click_summary_tab_first=False):\n",
    "        if not self.summ_table_elements:\n",
    "            self._get_summary_table(click_summary_tab_first)\n",
    "        return self.summ_table_elements[5].text.replace('%','(').split('(')[1]\n",
    "    \n",
    "    def get_ex_dividend_date(self, click_summary_tab_first=False):\n",
    "        if not self.summ_table_elements:\n",
    "            self._get_summary_table(click_summary_tab_first)\n",
    "        return self.summ_table_elements[6].text.split()[2]\n",
    "    \n",
    "    def get_market_cap(self, click_summary_tab_first=False):\n",
    "        if not self.summ_table_elements:\n",
    "            self._get_summary_table(click_summary_tab_first)\n",
    "        return self.summ_table_elements[0].text.split()[2]\n",
    "    \n",
    "    def _calculate_timeframe_dates(self, current_day, days):\n",
    "        start_lapse = timedelta(days=days+15)\n",
    "        end_lapse = timedelta(days=days-15)\n",
    "        self.start_date = current_day-start_lapse\n",
    "        self.end_date = current_day-end_lapse\n",
    "    \n",
    "    def _get_quotes_table(self):\n",
    "        xpath_date = '//*[@id=\"Col1-1-HistoricalDataTable-Proxy\"]/section/div[2]/table/tbody//tr' # to get all the table\n",
    "        return self.driver.find_elements_by_xpath(xpath_date)\n",
    "    \n",
    "    def get_ndays_quotes(self, ndays, click_historical_data_first=False):\n",
    "        if click_historical_data_first:\n",
    "            self.select_tab(\"Historical Data\")\n",
    "        self._calculate_timeframe_dates(date.today(), ndays)\n",
    "        \n",
    "        # Open the timeframe window\n",
    "        time_frame_xpath = '//*[@id=\"Col1-1-HistoricalDataTable-Proxy\"]/section//input[@data-test=\"date-picker-full-range\"]'\n",
    "        self.wait_for_element_XPath(time_frame_xpath, 60)\n",
    "        self.send_click(time_frame_xpath)\n",
    "        \n",
    "        # Select start date field and introduce start_date\n",
    "        self.send_n_keys('//*[@id=\"Col1-1-HistoricalDataTable-Proxy\"]/section//input[@name=\"startDate\"]',\n",
    "                        Keys.DELETE, 10)\n",
    "        self.send_keys('//*[@id=\"Col1-1-HistoricalDataTable-Proxy\"]/section//input[@name=\"startDate\"]',\n",
    "                        self.start_date.strftime(\"%m/%d/%Y\"))\n",
    "        \n",
    "        # Select end date field and introduce end_date\n",
    "        self.send_n_keys('//*[@id=\"Col1-1-HistoricalDataTable-Proxy\"]/section//input[@name=\"endDate\"]',\n",
    "                        Keys.BACKSPACE, 10)\n",
    "        self.send_keys('//*[@id=\"Col1-1-HistoricalDataTable-Proxy\"]/section//input[@name=\"endDate\"]',\n",
    "                        self.end_date.strftime(\"%m/%d/%Y\"))\n",
    "        \n",
    "        # Validate timeframe\n",
    "        try:\n",
    "            # Check if error message is present\n",
    "            element = self.driver.find_element_by_xpath('//*[@id=\"Col1-1-HistoricalDataTable-Proxy\"]/section/div[1]/div[1]/div[1]/span[2]/div/span[3]')\n",
    "        except:\n",
    "            # Dates validated, error message is not present\n",
    "            # Applying introduced timeframes\n",
    "            self.send_click('//*[@id=\"Col1-1-HistoricalDataTable-Proxy\"]/section/div[1]/div[1]/div[1]/span[2]/div/div[3]/button[1]')\n",
    "            self.send_click('//*[@id=\"Col1-1-HistoricalDataTable-Proxy\"]/section/div[1]/div[1]/button')\n",
    "        else:\n",
    "            # Dates not validated, error reported\n",
    "            # Closing timeframe window\n",
    "            self.send_click('//*[@id=\"Col1-1-HistoricalDataTable-Proxy\"]/section/div[1]/div[1]/div[1]/span[2]/div/div[3]/button[2]')\n",
    "            return None\n",
    "            \n",
    "        # Get the quotes\n",
    "        five_years_date = date.today()-timedelta(days=ndays)\n",
    "        five_years_date_str = five_years_date.strftime(\"%b %d, %Y\")\n",
    "        quotes_table = self._get_quotes_table()\n",
    "        while quotes_table:\n",
    "            for element in quotes_table:\n",
    "                try:\n",
    "                    if five_years_date_str in element.text:\n",
    "                        return element.text.split()[7]\n",
    "                except:\n",
    "                    pass\n",
    "            five_years_date = five_years_date - timedelta(days=1)\n",
    "            five_years_date_str = five_years_date.strftime(\"%b %d, %Y\")\n",
    "        return None\n",
    "\n",
    "    def get_historical_data(self, start_date, end_date, click_historical_data_first=False):\n",
    "            if click_historical_data_first:\n",
    "                self.select_tab(\"Historical Data\")\n",
    "\n",
    "            # Open the timeframe window\n",
    "            time_frame_xpath = '//*[@id=\"Col1-1-HistoricalDataTable-Proxy\"]/section//input[@data-test=\"date-picker-full-range\"]'\n",
    "            self.wait_for_element_XPath(time_frame_xpath, 60)\n",
    "            self.send_click(time_frame_xpath)\n",
    "\n",
    "            # Select start date field and introduce start_date\n",
    "            self.send_n_keys('//*[@id=\"Col1-1-HistoricalDataTable-Proxy\"]/section//input[@name=\"startDate\"]',\n",
    "                            Keys.DELETE, 10)\n",
    "            self.send_keys('//*[@id=\"Col1-1-HistoricalDataTable-Proxy\"]/section//input[@name=\"startDate\"]',\n",
    "                            start_date.strftime(\"%m/%d/%Y\"))\n",
    "\n",
    "            # Select end date field and introduce end_date\n",
    "            self.send_n_keys('//*[@id=\"Col1-1-HistoricalDataTable-Proxy\"]/section//input[@name=\"endDate\"]',\n",
    "                            Keys.BACKSPACE, 10)\n",
    "            self.send_keys('//*[@id=\"Col1-1-HistoricalDataTable-Proxy\"]/section//input[@name=\"endDate\"]',\n",
    "                            end_date.strftime(\"%m/%d/%Y\"))\n",
    "\n",
    "            # Validate timeframe\n",
    "            try:\n",
    "                # Check if error message is present\n",
    "                element = self.driver.find_element_by_xpath('//*[@id=\"Col1-1-HistoricalDataTable-Proxy\"]/section/div[1]/div[1]/div[1]/span[2]/div/span[3]')\n",
    "            except:\n",
    "                # Dates validated, error message is not present\n",
    "                # Applying introduced timeframes\n",
    "                self.send_click('//*[@id=\"Col1-1-HistoricalDataTable-Proxy\"]/section/div[1]/div[1]/div[1]/span[2]/div/div[3]/button[1]')\n",
    "                self.send_click('//*[@id=\"Col1-1-HistoricalDataTable-Proxy\"]/section/div[1]/div[1]/button')\n",
    "            else:\n",
    "                # Dates not validated, error reported\n",
    "                # Closing timeframe window\n",
    "                self.send_click('//*[@id=\"Col1-1-HistoricalDataTable-Proxy\"]/section/div[1]/div[1]/div[1]/span[2]/div/div[3]/button[2]')\n",
    "                return None\n",
    "\n",
    "            # Get the quotes\n",
    "            time.sleep(5)\n",
    "            self.send_click('//*[@id=\"Col1-1-HistoricalDataTable-Proxy\"]//a[@download=\"' + ticker + '.csv\"]')\n",
    "\n"
   ]
  },
  {
   "cell_type": "markdown",
   "metadata": {},
   "source": [
    "### Setting the download folder\n",
    "To select the download folder by default in Chrome, we have to use the chrome_options argument when creating the webdriver object.\n",
    "\n",
    "Below the code used. In the final code, a new method should be added to the class Selenium_driver tp assign the default download folder."
   ]
  },
  {
   "cell_type": "code",
   "execution_count": 20,
   "metadata": {
    "collapsed": true
   },
   "outputs": [],
   "source": [
    "import os\n",
    "\n",
    "cwd = os.getcwd() + \"\\\\csv\"\n",
    "\n",
    "# Change download location\n",
    "options = webdriver.ChromeOptions()\n",
    "options.add_experimental_option(\"prefs\", {\n",
    "  \"download.default_directory\": cwd,\n",
    "  \"download.prompt_for_download\": False,\n",
    "  \"download.directory_upgrade\": True,\n",
    "  \"safebrowsing.enabled\": True\n",
    "})\n",
    "\n",
    "# OPEN finance.yahoo.com ACCEPTING Oath PAGE IF NEEDED\n",
    "fyn = Finance_Yahoo_Navigation(delete_cookies=False, chrome_options=options)\n",
    "\n",
    "# INTRODUCE TICKER\n",
    "ticker = \"HPQ\"\n",
    "fyn.select_ticker(ticker)\n",
    "\n",
    "fyn.get_historical_data(datetime(2013,1,1), datetime(2018,1,1), click_historical_data_first=True)"
   ]
  },
  {
   "cell_type": "markdown",
   "metadata": {},
   "source": [
    "# Using Xpath\n",
    "Xpath is a powerful language to access to any xml or html source, however sometimes is a little bit tricky\n",
    "\n",
    "In this example we want to access to the Revenue Estimate data of the Analysis tab. Looking at the Inspector, we can see that:\n",
    "\n",
    "<img src=\"img\\revenuehtml.png\" alt=\"Drawing\" style=\"width: 600px;\"/>\n",
    "\n",
    "The name of the table is found under a header tag, which has an ancestor that is a sibling of the body tag whose descendants are the rows with the information needed, clear not?  ;D (nice family).\n",
    "\n",
    "To access to this information we use the xpath:\n",
    "```\n",
    "\"//*[th='Revenue Estimate']/../..//tr\"\n",
    "```\n",
    "\n",
    "that means:\n",
    "```\n",
    "//*[th='Revenue Estimate'] = access any tag which has a child th which value is \"Revenue Estimate\"\n",
    "<tr class=\"Ta(start)\">\n",
    "    <th class=\"Fw(b) Fw(s) W(20%) Py(10px) C($finDarkLink)\"><span>Revenue Estimate</span></th>\n",
    "    <th class=\"Fw(400) W(20%) Fz(xs) C($c-fuji-grey-j) Ta(end)\">...</th>\n",
    "    ...\n",
    "</tr>\n",
    "The tag selected will be <tr class=\"Ta(start)\">,\n",
    "\n",
    "/../..  = access the parent of the parent of the tag tr which is indeed the tag table\n",
    "<table class=\"W(100%) M(0) BdB Bdc($c-fuji-grey-c) Mb(25px)\">\n",
    "    <thead>\n",
    "        <tr class=\"Ta(start)\">\n",
    "            <th class=\"Fw(b) Fw(s) W(20%) Py(10px) C($finDarkLink)\"><span>Revenue Estimate</span></th>\n",
    "            ...\n",
    "        </tr>\n",
    "    </thead>\n",
    "    <tbody>\n",
    "        <tr class=\"BdT Bdc($c-fuji-grey-c)\">\n",
    "            <td class=\"Py(10px) Ta(start)\">\n",
    "            ...\n",
    "        ...\n",
    "    </tbody>\n",
    "</table>\n",
    "\n",
    "//tr = select any row of the table\n",
    "```\n",
    "\n",
    "This will capture all the rows of the head and body part, if we just want to capture the rows of the body part the xpath would be:\n",
    "```\n",
    "\"//*[th='Revenue Estimate']/../../tbody//tr\"\n",
    "```\n",
    "\n"
   ]
  },
  {
   "cell_type": "code",
   "execution_count": 1,
   "metadata": {},
   "outputs": [
    {
     "name": "stdout",
     "output_type": "stream",
     "text": [
      "Market Cap (intraday) 5 305.2B\n",
      "Enterprise Value 3 248.89B\n",
      "Trailing P/E 17.46\n",
      "Forward P/E 1 10.42\n",
      "PEG Ratio (5 yr expected) 1 0.54\n",
      "Price/Sales (ttm) 3.60\n",
      "Price/Book (mrq) 1.27\n",
      "Enterprise Value/Revenue 3 2.93\n",
      "Enterprise Value/EBITDA 6 N/A\n",
      "Fiscal Year Ends Dec 31, 2017\n",
      "Most Recent Quarter (mrq) Mar 31, 2018\n",
      "Profit Margin 23.35%\n",
      "Operating Margin (ttm) 35.51%\n",
      "Return on Assets (ttm) 0.87%\n",
      "Return on Equity (ttm) 7.41%\n",
      "Revenue (ttm) 84.83B\n",
      "Revenue Per Share (ttm) 8.27\n",
      "Quarterly Revenue Growth (yoy) 4.10%\n",
      "Gross Profit (ttm) N/A\n",
      "EBITDA N/A\n",
      "Net Income Avi to Common (ttm) 18.27B\n",
      "Diluted EPS (ttm) 1.72\n",
      "Quarterly Earnings Growth (yoy) 29.60%\n",
      "Total Cash (mrq) 579.08B\n",
      "Total Cash Per Share (mrq) 55.06\n",
      "Total Debt (mrq) 502.81B\n",
      "Total Debt/Equity (mrq) N/A\n",
      "Current Ratio (mrq) N/A\n",
      "Book Value Per Share (mrq) 23.74\n",
      "Operating Cash Flow (ttm) 63.75B\n",
      "Levered Free Cash Flow (ttm) N/A\n",
      "---end---\n"
     ]
    }
   ],
   "source": [
    "from selenium import webdriver\n",
    "from selenium.webdriver.common.keys import Keys\n",
    "from selenium.webdriver.support.ui import Select, WebDriverWait\n",
    "from selenium.webdriver.support import expected_conditions as EC\n",
    "from selenium.webdriver.common.by import By\n",
    "import time\n",
    "from datetime import datetime, date, timedelta\n",
    "\n",
    "def wait_for_element_XPath(driver, xpath_str, wait_time):\n",
    "        try: # this block implements a wait for the load of the table element\n",
    "            # after 5 seconds a timeout is error is produced\n",
    "            element = WebDriverWait(self.driver,\n",
    "                                    wait_time).until(EC.presence_of_element_located((By.XPATH, xpath_str)))\n",
    "        except:\n",
    "            raise\n",
    "        time.sleep(1)\n",
    "\n",
    "ticker = \"BAC\"\n",
    "driver = webdriver.Chrome()\n",
    "driver.get(\"https://finance.yahoo.com\")\n",
    "try:\n",
    "    assert \"Yahoo Finance\" in driver.title\n",
    "except AssertionError:\n",
    "    try:\n",
    "        assert \"Oath\" in driver.title\n",
    "    except AssertionError:\n",
    "        print(\"Unknown page {page}, please check opened browser\".format(page=driver.title))\n",
    "    else:\n",
    "        element = driver.find_element_by_xpath(\"//input[@value='OK']\")\n",
    "        element.send_keys(Keys.RETURN)\n",
    "        driver.refresh()\n",
    "        try:\n",
    "            assert \"Yahoo Finance\" in driver.title\n",
    "        except AssertionError:\n",
    "            print(\"Unknown page {page}, please check opened browser\".format(page=driver.title))\n",
    "            raise\n",
    "# Select ticker\n",
    "element = driver.find_element_by_xpath(\"//input[@name='p']\")\n",
    "element.send_keys(ticker)\n",
    "element.send_keys(Keys.RETURN)\n",
    "# select statistics tab\n",
    "xpath_str = \"//*[@id='quote-nav']/ul/li[4]/a\"\n",
    "element = WebDriverWait(driver,10).until(EC.presence_of_element_located((By.XPATH,\n",
    "                                                                         xpath_str)))\n",
    "element = driver.find_element_by_xpath(xpath_str)\n",
    "element.send_keys(Keys.ENTER)\n",
    "# get table\n",
    "xpath_str = \"//*[h2='Valuation Measures']//table//tr\"\n",
    "element = WebDriverWait(driver,10).until(EC.presence_of_element_located((By.XPATH,\n",
    "                                                                         xpath_str)))\n",
    "elements = driver.find_elements_by_xpath(xpath_str)\n",
    "for element in elements:\n",
    "    print(element.text)\n",
    "print(\"---end---\")"
   ]
  },
  {
   "cell_type": "code",
   "execution_count": 22,
   "metadata": {},
   "outputs": [
    {
     "name": "stdout",
     "output_type": "stream",
     "text": [
      "Current 30.10\n",
      "Average 34.76\n",
      "Low 28.00\n",
      "High 37.00\n"
     ]
    }
   ],
   "source": [
    "xpath_str = '//section[@data-test=\"price-targets\"]/div'\n",
    "\n",
    "elements = driver.find_element_by_xpath(xpath_str)\n",
    "print(elements.text)\n",
    "#for element in elements:\n",
    "#    print(element.text)"
   ]
  },
  {
   "cell_type": "code",
   "execution_count": 24,
   "metadata": {},
   "outputs": [
    {
     "data": {
      "text/plain": [
       "'34.76'"
      ]
     },
     "execution_count": 24,
     "metadata": {},
     "output_type": "execute_result"
    }
   ],
   "source": [
    "elements.text.split()[3]"
   ]
  },
  {
   "cell_type": "code",
   "execution_count": 1,
   "metadata": {
    "collapsed": true
   },
   "outputs": [],
   "source": [
    "import pandas as pd"
   ]
  },
  {
   "cell_type": "code",
   "execution_count": 66,
   "metadata": {
    "collapsed": true
   },
   "outputs": [],
   "source": [
    "tickers_df = pd.read_csv(\"tickers.csv\", sep=\";\")"
   ]
  },
  {
   "cell_type": "code",
   "execution_count": 67,
   "metadata": {},
   "outputs": [
    {
     "name": "stdout",
     "output_type": "stream",
     "text": [
      "HPQ\n"
     ]
    },
    {
     "data": {
      "text/html": [
       "<div>\n",
       "<table border=\"1\" class=\"dataframe\">\n",
       "  <thead>\n",
       "    <tr style=\"text-align: right;\">\n",
       "      <th></th>\n",
       "      <th>Tickers</th>\n",
       "    </tr>\n",
       "  </thead>\n",
       "  <tbody>\n",
       "    <tr>\n",
       "      <th>0</th>\n",
       "      <td>HPQ</td>\n",
       "    </tr>\n",
       "    <tr>\n",
       "      <th>1</th>\n",
       "      <td>ILG</td>\n",
       "    </tr>\n",
       "    <tr>\n",
       "      <th>2</th>\n",
       "      <td>BAC</td>\n",
       "    </tr>\n",
       "  </tbody>\n",
       "</table>\n",
       "</div>"
      ],
      "text/plain": [
       "  Tickers\n",
       "0     HPQ\n",
       "1     ILG\n",
       "2     BAC"
      ]
     },
     "execution_count": 67,
     "metadata": {},
     "output_type": "execute_result"
    }
   ],
   "source": [
    "print(tickers_df.loc[0,'Tickers'])\n",
    "tickers_df"
   ]
  },
  {
   "cell_type": "code",
   "execution_count": 76,
   "metadata": {},
   "outputs": [
    {
     "data": {
      "text/html": [
       "<div>\n",
       "<table border=\"1\" class=\"dataframe\">\n",
       "  <thead>\n",
       "    <tr style=\"text-align: right;\">\n",
       "      <th></th>\n",
       "      <th>EPS</th>\n",
       "      <th>Price</th>\n",
       "      <th>Ticker</th>\n",
       "    </tr>\n",
       "  </thead>\n",
       "  <tbody>\n",
       "    <tr>\n",
       "      <th>0</th>\n",
       "      <td>17.8</td>\n",
       "      <td>14.53</td>\n",
       "      <td>HPE</td>\n",
       "    </tr>\n",
       "  </tbody>\n",
       "</table>\n",
       "</div>"
      ],
      "text/plain": [
       "    EPS  Price Ticker\n",
       "0  17.8  14.53    HPE"
      ]
     },
     "execution_count": 76,
     "metadata": {},
     "output_type": "execute_result"
    }
   ],
   "source": [
    "result = {\"Price\":14.53, \"EPS\":17.8, \"Ticker\":\"HPE\"}\n",
    "result\n",
    "results = pd.DataFrame(data=result,index=[0])\n",
    "results"
   ]
  },
  {
   "cell_type": "code",
   "execution_count": 77,
   "metadata": {
    "collapsed": true
   },
   "outputs": [],
   "source": [
    "result2 = {\"Price\":0.53, \"EPS\":0.8, \"Ticker\":\"HPQ\"}"
   ]
  },
  {
   "cell_type": "code",
   "execution_count": 83,
   "metadata": {
    "collapsed": true
   },
   "outputs": [],
   "source": [
    "results=results.append(result2, ignore_index=True)\n"
   ]
  },
  {
   "cell_type": "code",
   "execution_count": 84,
   "metadata": {},
   "outputs": [
    {
     "data": {
      "text/html": [
       "<div>\n",
       "<table border=\"1\" class=\"dataframe\">\n",
       "  <thead>\n",
       "    <tr style=\"text-align: right;\">\n",
       "      <th></th>\n",
       "      <th>EPS</th>\n",
       "      <th>Price</th>\n",
       "      <th>Ticker</th>\n",
       "    </tr>\n",
       "  </thead>\n",
       "  <tbody>\n",
       "    <tr>\n",
       "      <th>0</th>\n",
       "      <td>17.8</td>\n",
       "      <td>14.53</td>\n",
       "      <td>HPE</td>\n",
       "    </tr>\n",
       "    <tr>\n",
       "      <th>1</th>\n",
       "      <td>0.8</td>\n",
       "      <td>0.53</td>\n",
       "      <td>HPQ</td>\n",
       "    </tr>\n",
       "  </tbody>\n",
       "</table>\n",
       "</div>"
      ],
      "text/plain": [
       "    EPS  Price Ticker\n",
       "0  17.8  14.53    HPE\n",
       "1   0.8   0.53    HPQ"
      ]
     },
     "execution_count": 84,
     "metadata": {},
     "output_type": "execute_result"
    }
   ],
   "source": [
    "results"
   ]
  },
  {
   "cell_type": "code",
   "execution_count": 85,
   "metadata": {},
   "outputs": [
    {
     "name": "stdout",
     "output_type": "stream",
     "text": [
      "ILG\n",
      "BAC\n"
     ]
    }
   ],
   "source": [
    "for ticker in tickers_df['Tickers']:\n",
    "    print (ticker)"
   ]
  },
  {
   "cell_type": "code",
   "execution_count": 69,
   "metadata": {
    "collapsed": true
   },
   "outputs": [],
   "source": [
    "tickers_df=tickers_df.drop(tickers_df.index[0])"
   ]
  },
  {
   "cell_type": "code",
   "execution_count": 70,
   "metadata": {},
   "outputs": [
    {
     "data": {
      "text/html": [
       "<div>\n",
       "<table border=\"1\" class=\"dataframe\">\n",
       "  <thead>\n",
       "    <tr style=\"text-align: right;\">\n",
       "      <th></th>\n",
       "      <th>Tickers</th>\n",
       "    </tr>\n",
       "  </thead>\n",
       "  <tbody>\n",
       "    <tr>\n",
       "      <th>1</th>\n",
       "      <td>ILG</td>\n",
       "    </tr>\n",
       "    <tr>\n",
       "      <th>2</th>\n",
       "      <td>BAC</td>\n",
       "    </tr>\n",
       "  </tbody>\n",
       "</table>\n",
       "</div>"
      ],
      "text/plain": [
       "  Tickers\n",
       "1     ILG\n",
       "2     BAC"
      ]
     },
     "execution_count": 70,
     "metadata": {},
     "output_type": "execute_result"
    }
   ],
   "source": [
    "tickers_df\n"
   ]
  },
  {
   "cell_type": "code",
   "execution_count": 72,
   "metadata": {},
   "outputs": [
    {
     "name": "stdout",
     "output_type": "stream",
     "text": [
      "<class 'str'>\n",
      "<class 'str'>\n"
     ]
    }
   ],
   "source": [
    "for ticker in tickers_df['Tickers']:\n",
    "    print (type(ticker))"
   ]
  },
  {
   "cell_type": "code",
   "execution_count": 74,
   "metadata": {},
   "outputs": [
    {
     "data": {
      "text/plain": [
       "'BAC'"
      ]
     },
     "execution_count": 74,
     "metadata": {},
     "output_type": "execute_result"
    }
   ],
   "source": [
    "tickers_df.loc[tickers_df.index[1],'Tickers']"
   ]
  },
  {
   "cell_type": "code",
   "execution_count": 86,
   "metadata": {},
   "outputs": [
    {
     "data": {
      "text/html": [
       "<div>\n",
       "<table border=\"1\" class=\"dataframe\">\n",
       "  <thead>\n",
       "    <tr style=\"text-align: right;\">\n",
       "      <th></th>\n",
       "      <th>EPS</th>\n",
       "      <th>Price</th>\n",
       "      <th>Ticker</th>\n",
       "    </tr>\n",
       "  </thead>\n",
       "  <tbody>\n",
       "    <tr>\n",
       "      <th>0</th>\n",
       "      <td>17.8</td>\n",
       "      <td>14.53</td>\n",
       "      <td>HPE</td>\n",
       "    </tr>\n",
       "    <tr>\n",
       "      <th>1</th>\n",
       "      <td>0.8</td>\n",
       "      <td>0.53</td>\n",
       "      <td>HPQ</td>\n",
       "    </tr>\n",
       "  </tbody>\n",
       "</table>\n",
       "</div>"
      ],
      "text/plain": [
       "    EPS  Price Ticker\n",
       "0  17.8  14.53    HPE\n",
       "1   0.8   0.53    HPQ"
      ]
     },
     "execution_count": 86,
     "metadata": {},
     "output_type": "execute_result"
    }
   ],
   "source": [
    "results\n"
   ]
  },
  {
   "cell_type": "code",
   "execution_count": 91,
   "metadata": {},
   "outputs": [
    {
     "name": "stdout",
     "output_type": "stream",
     "text": [
      "    EPS  Price Ticker\n",
      "0  17.8  14.53    HPE\n",
      "1   0.8   0.53    HPQ\n"
     ]
    }
   ],
   "source": [
    "print(results)"
   ]
  },
  {
   "cell_type": "code",
   "execution_count": null,
   "metadata": {
    "collapsed": true
   },
   "outputs": [],
   "source": []
  }
 ],
 "metadata": {
  "anaconda-cloud": {},
  "kernelspec": {
   "display_name": "Python [conda env:web_scrapping3]",
   "language": "python",
   "name": "conda-env-web_scrapping3-py"
  },
  "language_info": {
   "codemirror_mode": {
    "name": "ipython",
    "version": 3
   },
   "file_extension": ".py",
   "mimetype": "text/x-python",
   "name": "python",
   "nbconvert_exporter": "python",
   "pygments_lexer": "ipython3",
   "version": "3.4.5"
  },
  "toc": {
   "colors": {
    "hover_highlight": "#DAA520",
    "running_highlight": "#FF0000",
    "selected_highlight": "#FFD700"
   },
   "moveMenuLeft": true,
   "nav_menu": {
    "height": "297px",
    "width": "252px"
   },
   "navigate_menu": true,
   "number_sections": true,
   "sideBar": true,
   "threshold": 4,
   "toc_cell": false,
   "toc_position": {
    "height": "527px",
    "left": "0px",
    "right": "1056.67px",
    "top": "106px",
    "width": "212px"
   },
   "toc_section_display": "block",
   "toc_window_display": true
  }
 },
 "nbformat": 4,
 "nbformat_minor": 2
}
